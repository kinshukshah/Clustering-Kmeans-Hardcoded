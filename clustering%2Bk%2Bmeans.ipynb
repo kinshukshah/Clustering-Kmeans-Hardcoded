{
 "cells": [
  {
   "cell_type": "code",
   "execution_count": 22,
   "metadata": {},
   "outputs": [],
   "source": [
    "import pandas as pd\n",
    "from random import sample\n",
    "import math\n",
    "import numpy as np\n"
   ]
  },
  {
   "cell_type": "code",
   "execution_count": 23,
   "metadata": {},
   "outputs": [
    {
     "data": {
      "text/html": [
       "<div>\n",
       "<style scoped>\n",
       "    .dataframe tbody tr th:only-of-type {\n",
       "        vertical-align: middle;\n",
       "    }\n",
       "\n",
       "    .dataframe tbody tr th {\n",
       "        vertical-align: top;\n",
       "    }\n",
       "\n",
       "    .dataframe thead th {\n",
       "        text-align: right;\n",
       "    }\n",
       "</style>\n",
       "<table border=\"1\" class=\"dataframe\">\n",
       "  <thead>\n",
       "    <tr style=\"text-align: right;\">\n",
       "      <th></th>\n",
       "      <th>sodium</th>\n",
       "      <th>water</th>\n",
       "    </tr>\n",
       "  </thead>\n",
       "  <tbody>\n",
       "    <tr>\n",
       "      <th>0</th>\n",
       "      <td>1</td>\n",
       "      <td>1</td>\n",
       "    </tr>\n",
       "    <tr>\n",
       "      <th>1</th>\n",
       "      <td>2</td>\n",
       "      <td>1</td>\n",
       "    </tr>\n",
       "    <tr>\n",
       "      <th>2</th>\n",
       "      <td>3</td>\n",
       "      <td>1</td>\n",
       "    </tr>\n",
       "    <tr>\n",
       "      <th>3</th>\n",
       "      <td>4</td>\n",
       "      <td>4</td>\n",
       "    </tr>\n",
       "    <tr>\n",
       "      <th>4</th>\n",
       "      <td>5</td>\n",
       "      <td>4</td>\n",
       "    </tr>\n",
       "    <tr>\n",
       "      <th>5</th>\n",
       "      <td>5</td>\n",
       "      <td>5</td>\n",
       "    </tr>\n",
       "    <tr>\n",
       "      <th>6</th>\n",
       "      <td>2</td>\n",
       "      <td>2</td>\n",
       "    </tr>\n",
       "  </tbody>\n",
       "</table>\n",
       "</div>"
      ],
      "text/plain": [
       "   sodium  water\n",
       "0       1      1\n",
       "1       2      1\n",
       "2       3      1\n",
       "3       4      4\n",
       "4       5      4\n",
       "5       5      5\n",
       "6       2      2"
      ]
     },
     "execution_count": 23,
     "metadata": {},
     "output_type": "execute_result"
    }
   ],
   "source": [
    "d = {'sodium':[1,2,3,4,5,5,2],'water':[1,1,1,4,4,5,2]}\n",
    "df = pd.DataFrame(data=d)\n",
    "df"
   ]
  },
  {
   "cell_type": "code",
   "execution_count": 13,
   "metadata": {},
   "outputs": [],
   "source": [
    "#df_elements = df.sample(n=2)\n",
    "\n"
   ]
  },
  {
   "cell_type": "code",
   "execution_count": 14,
   "metadata": {},
   "outputs": [],
   "source": [
    "#dfele=df_elements.reset_index(drop='true')\n",
    "#dfele"
   ]
  },
  {
   "cell_type": "code",
   "execution_count": 15,
   "metadata": {},
   "outputs": [],
   "source": [
    "#dfz=euclid(dfele,df)\n"
   ]
  },
  {
   "cell_type": "code",
   "execution_count": 19,
   "metadata": {},
   "outputs": [],
   "source": [
    "\n",
    "def euclid(dfele,df):\n",
    "    dist=[[],[]]\n",
    "    for j in range(0,2):\n",
    "        for i in range(0,7):\n",
    "            x1=df['water'][i]\n",
    "            y1=df['sodium'][i]\n",
    "            x2=dfele['water'][j]\n",
    "            y2=dfele['sodium'][j]\n",
    "            dist[j].append(math.sqrt((x2-x1)**2+(y2-y1)**2))\n",
    "        #print(dist[j][i])\n",
    "    dfz=pd.DataFrame({'X':dist[0],'Y':dist[1]})\n",
    "    dfz['cluster'] = np.where(dfz['X']<=dfz['Y'], 'c1', 'c2')\n",
    "    \n",
    "    \n",
    "    \n",
    "    return dfz\n",
    "    \n"
   ]
  },
  {
   "cell_type": "code",
   "execution_count": 20,
   "metadata": {},
   "outputs": [],
   "source": [
    "def centroid(dfz):\n",
    "    dc1=dfz.loc[(dfz['cluster'] == 'c1')]\n",
    "    dc2=dfz.loc[(dfz['cluster'] == 'c2')]\n",
    "    z1=dc1.mean().tolist()\n",
    "    z2=dc2.mean().tolist()\n",
    "    data=[{'sodium':z1[0], 'water':z1[1]},{'sodium':z2[0],'water':z2[1]}]\n",
    "    newcent=pd.DataFrame(data)\n",
    "    return newcent\n",
    "\n"
   ]
  },
  {
   "cell_type": "code",
   "execution_count": 21,
   "metadata": {},
   "outputs": [
    {
     "name": "stdout",
     "output_type": "stream",
     "text": [
      "   sodium  water\n",
      "0       5      5\n",
      "1       3      1\n",
      "   sodium  water cluster\n",
      "0       1      1      c2\n",
      "1       2      1      c2\n",
      "2       3      1      c2\n",
      "3       4      4      c1\n",
      "4       5      4      c1\n",
      "5       5      5      c1\n",
      "6       2      2      c2\n"
     ]
    }
   ],
   "source": [
    "label=[]\n",
    "labp=[]\n",
    "labn=[]\n",
    "while(True):\n",
    "    #dfele=centroid()\n",
    "    #ds=euclid(dfele,df)\n",
    "    \n",
    "    #label=ds['cluster'].tolist()\n",
    "    if(labp == []):\n",
    "        df_elements = df.sample(n=2)\n",
    "        dfele=df_elements.reset_index(drop='true')\n",
    "        print(dfele)\n",
    "        ds=euclid(dfele,df)\n",
    "        label=ds['cluster'].tolist()\n",
    "        labp=label\n",
    "        labn=label\n",
    "    else:\n",
    "        dfele = centroid(ds)\n",
    "        ds=euclid(dfele,df)\n",
    "        label=ds['cluster'].tolist()\n",
    "        labp=labn\n",
    "        labn=label\n",
    "        if(labp==labn):\n",
    "            df['cluster']=labn\n",
    "            print(df)\n",
    "            break\n",
    "        label=[]\n",
    "            \n",
    "    \n",
    "        \n",
    "    \n",
    "    "
   ]
  },
  {
   "cell_type": "code",
   "execution_count": null,
   "metadata": {},
   "outputs": [],
   "source": []
  },
  {
   "cell_type": "code",
   "execution_count": 58,
   "metadata": {},
   "outputs": [],
   "source": []
  },
  {
   "cell_type": "code",
   "execution_count": null,
   "metadata": {},
   "outputs": [],
   "source": []
  },
  {
   "cell_type": "code",
   "execution_count": null,
   "metadata": {
    "collapsed": true
   },
   "outputs": [],
   "source": []
  },
  {
   "cell_type": "code",
   "execution_count": null,
   "metadata": {},
   "outputs": [],
   "source": []
  },
  {
   "cell_type": "code",
   "execution_count": null,
   "metadata": {},
   "outputs": [],
   "source": []
  },
  {
   "cell_type": "code",
   "execution_count": null,
   "metadata": {
    "collapsed": true
   },
   "outputs": [],
   "source": []
  }
 ],
 "metadata": {
  "kernelspec": {
   "display_name": "Python 3",
   "language": "python",
   "name": "python3"
  },
  "language_info": {
   "codemirror_mode": {
    "name": "ipython",
    "version": 3
   },
   "file_extension": ".py",
   "mimetype": "text/x-python",
   "name": "python",
   "nbconvert_exporter": "python",
   "pygments_lexer": "ipython3",
   "version": "3.6.4"
  }
 },
 "nbformat": 4,
 "nbformat_minor": 2
}
